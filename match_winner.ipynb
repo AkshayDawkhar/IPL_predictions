{
  "nbformat": 4,
  "nbformat_minor": 0,
  "metadata": {
    "colab": {
      "name": "match_winner.ipynb",
      "provenance": [],
      "mount_file_id": "11RDqCnbUKR_rf1c3Nwnuc9c14gu712wd",
      "authorship_tag": "ABX9TyO8w4QW0v7i2iwWv/icHr31",
      "include_colab_link": true
    },
    "kernelspec": {
      "name": "python3",
      "display_name": "Python 3"
    },
    "language_info": {
      "name": "python"
    }
  },
  "cells": [
    {
      "cell_type": "markdown",
      "metadata": {
        "id": "view-in-github",
        "colab_type": "text"
      },
      "source": [
        "<a href=\"https://colab.research.google.com/github/AkshayDawkhar/IPL_predictions/blob/main/match_winner.ipynb\" target=\"_parent\"><img src=\"https://colab.research.google.com/assets/colab-badge.svg\" alt=\"Open In Colab\"/></a>"
      ]
    },
    {
      "cell_type": "code",
      "execution_count": 17,
      "metadata": {
        "id": "DTJ608dAFoF6"
      },
      "outputs": [],
      "source": [
        "import pandas as pd\n",
        "import numpy as np\n",
        "import sklearn\n",
        "from sklearn.preprocessing import LabelEncoder"
      ]
    },
    {
      "cell_type": "code",
      "source": [
        "data = pd.read_csv(\"/content/drive/MyDrive/ml/matches.csv\")"
      ],
      "metadata": {
        "id": "hudt5nKlFqTH"
      },
      "execution_count": 18,
      "outputs": []
    },
    {
      "cell_type": "code",
      "source": [
        "data = data.iloc[:,:-1]\n",
        "data.dropna(inplace=True)"
      ],
      "metadata": {
        "id": "ZGfoaHUJFxIO"
      },
      "execution_count": 19,
      "outputs": []
    },
    {
      "cell_type": "code",
      "source": [
        "data.replace(['Deccan Chargers','Delhi Daredevils','Rising Pune Supergiant','Rising Pune Supergiants'],['Delhi Capitals','Sunrisers Hyderabad','Pune Warriors','Pune Warriors'],inplace=True)\n"
      ],
      "metadata": {
        "id": "ZeL_SJhZF4ce"
      },
      "execution_count": 20,
      "outputs": []
    },
    {
      "cell_type": "code",
      "source": [
        "venuelab=LabelEncoder()\n",
        "venue=data['venue']\n",
        "venue=venuelab.fit_transform(venue)\n",
        "le_name_mapping = dict(zip(venuelab.classes_, venuelab.transform(venuelab.classes_)))\n",
        "# print(le_name_mapping)"
      ],
      "metadata": {
        "id": "qMQYcLhwF6zU"
      },
      "execution_count": 21,
      "outputs": []
    },
    {
      "cell_type": "code",
      "source": [
        "data.drop(['win_by_runs','win_by_wickets','id','season','city','venue','date','player_of_match','umpire1','umpire2','dl_applied','result'], axis=1,inplace= True)"
      ],
      "metadata": {
        "id": "ULm6K2kQGe04"
      },
      "execution_count": 24,
      "outputs": []
    },
    {
      "cell_type": "code",
      "source": [
        "data['toss_decision'] = data['toss_decision'].replace(['field','bat'],[1,0])\n",
        "x = data.drop([\"winner\"], axis=1)\n",
        "y = data[\"winner\"]\n",
        "\n",
        "for i in range(len(y)):\n",
        "  #  print(x.iloc[i,0]==y.iloc[i])\n",
        "   if x.iloc[i,0]== y.iloc[i]:\n",
        "      y.iloc[i] = 0\n",
        "  #  elif x.iloc[i,1]== y.iloc[i]:\n",
        "   else:\n",
        "      y.iloc[i] = 1\n",
        "   if x.iloc[i,0]==  x.iloc[i,2]:\n",
        "      x.iloc[i,2] = 0\n",
        "  #  elif x.iloc[i,1]== y.iloc[i]:\n",
        "   else:\n",
        "      x.iloc[i,2] = 1\n",
        "  #  if  x.iloc[i,3] == 'field':\n",
        "\n",
        "\n",
        "# x.iloc[1,1] == 'as'\n",
        "# x.iloc[1,1]\n",
        "toss_winn=x.iloc[:,2]\n",
        "toss_deci=x.iloc[:,3]\n",
        "x.drop(['toss_winner','toss_decision'],axis=1,inplace=True)"
      ],
      "metadata": {
        "id": "g8EvfkXyGKMA"
      },
      "execution_count": 25,
      "outputs": []
    },
    {
      "cell_type": "code",
      "source": [
        "X = pd.get_dummies(x, [\"team1\",\"team2\"])\n",
        "X['venue']=venue\n",
        "X['toss_winner']=toss_winn\n",
        "X['toss_decision']=toss_deci\n",
        "\n",
        "le = LabelEncoder()\n",
        "y = le.fit_transform(y)"
      ],
      "metadata": {
        "id": "V56huHBsHG7K"
      },
      "execution_count": 27,
      "outputs": []
    },
    {
      "cell_type": "code",
      "source": [
        "from sklearn.model_selection import train_test_split\n",
        "x_train, x_test, y_train, y_test = train_test_split(X, y, train_size = 0.8)"
      ],
      "metadata": {
        "id": "XfRe-NVMHIVM"
      },
      "execution_count": 28,
      "outputs": []
    },
    {
      "cell_type": "code",
      "source": [
        "from sklearn.ensemble import RandomForestClassifier\n",
        "model = RandomForestClassifier(n_estimators=400,min_samples_split=3,\n",
        "                               max_features = \"auto\")\n",
        "model.fit(X, y)"
      ],
      "metadata": {
        "colab": {
          "base_uri": "https://localhost:8080/"
        },
        "id": "4ZyQcU_4HUgG",
        "outputId": "00d9d71e-af82-43f0-ef6d-af7ee3ce66c0"
      },
      "execution_count": 31,
      "outputs": [
        {
          "output_type": "execute_result",
          "data": {
            "text/plain": [
              "1.0"
            ]
          },
          "metadata": {},
          "execution_count": 31
        }
      ]
    },
    {
      "cell_type": "code",
      "source": [
        "def pr_win(team1,team2,tosw,tosd,stem):\n",
        "  arr=[0,0,0,0,0,0,0,0,0,0,0,0,0,0,0,0,0,0,0,0,0,0,0,0,0]\n",
        "  teamcode={'CSK':0, 'DD':1, 'GL':2, 'KBKP':3, 'KTK':4, 'KKR':5, 'MI':6, 'PW':7, 'RR':8, 'RCB':9,\n",
        "       'SRH':10,'field':1, 'bat':0}\n",
        "  arr[23]=tosw\n",
        "  arr[24]=tosd\n",
        "  arr[22]=le_name_mapping[stem]\n",
        "  arr[(11+teamcode[team2])]=1\n",
        "  arr[(teamcode[team1])]=1\n",
        "  pred=np.array(arr)\n",
        "  ass=model.predict(pred.reshape(1, -1))\n",
        "  if ass == 0:\n",
        "    print(team1)\n",
        "  else:\n",
        "    print(team2)\n",
        "pr_win('CSK','SRH',1,1,'Brabourne Stadium')"
      ],
      "metadata": {
        "colab": {
          "base_uri": "https://localhost:8080/"
        },
        "id": "37IbBXECHwsy",
        "outputId": "3d9ec273-2b15-46b8-9d3f-3ddcbb7a754c"
      },
      "execution_count": 32,
      "outputs": [
        {
          "output_type": "stream",
          "name": "stdout",
          "text": [
            "CSK\n"
          ]
        },
        {
          "output_type": "stream",
          "name": "stderr",
          "text": [
            "/usr/local/lib/python3.7/dist-packages/sklearn/base.py:451: UserWarning: X does not have valid feature names, but RandomForestClassifier was fitted with feature names\n",
            "  \"X does not have valid feature names, but\"\n"
          ]
        }
      ]
    }
  ]
}